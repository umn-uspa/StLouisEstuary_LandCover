{
 "cells": [
  {
   "cell_type": "markdown",
   "id": "molecular-behalf",
   "metadata": {},
   "source": [
    "## **U-Net training process**"
   ]
  },
  {
   "cell_type": "code",
   "execution_count": 1,
   "id": "explicit-prediction",
   "metadata": {},
   "outputs": [
    {
     "name": "stderr",
     "output_type": "stream",
     "text": [
      "2025-01-23 09:17:10.367984: E external/local_xla/xla/stream_executor/cuda/cuda_dnn.cc:9261] Unable to register cuDNN factory: Attempting to register factory for plugin cuDNN when one has already been registered\n",
      "2025-01-23 09:17:10.368047: E external/local_xla/xla/stream_executor/cuda/cuda_fft.cc:607] Unable to register cuFFT factory: Attempting to register factory for plugin cuFFT when one has already been registered\n",
      "2025-01-23 09:17:10.497387: E external/local_xla/xla/stream_executor/cuda/cuda_blas.cc:1515] Unable to register cuBLAS factory: Attempting to register factory for plugin cuBLAS when one has already been registered\n",
      "2025-01-23 09:17:10.806174: I tensorflow/core/platform/cpu_feature_guard.cc:182] This TensorFlow binary is optimized to use available CPU instructions in performance-critical operations.\n",
      "To enable the following instructions: SSE4.1 SSE4.2 AVX AVX2 FMA, in other operations, rebuild TensorFlow with the appropriate compiler flags.\n"
     ]
    },
    {
     "name": "stdout",
     "output_type": "stream",
     "text": [
      "Segmentation Models: using `keras` framework.\n"
     ]
    }
   ],
   "source": [
    "import json\n",
    "import keras\n",
    "import tensorflow as tf\n",
    "from matplotlib import pyplot as plt\n",
    "from sklearn.model_selection import train_test_split\n",
    "from tensorflow.keras.callbacks import ModelCheckpoint\n",
    "\n",
    "# custom functions imported from src\n",
    "from src.modeling import load_patches, class_counts_to_weights, compile_unet\n",
    "from src.plot import plot_learning_history"
   ]
  },
  {
   "cell_type": "markdown",
   "id": "spoken-appraisal",
   "metadata": {},
   "source": [
    "We are training our U-Net model from scratch, therefore we set a seed at the beginning to ensure reproducibility in the way model layers are initialized. For more information, visit https://keras.io/examples/keras_recipes/reproducibility_recipes/. "
   ]
  },
  {
   "cell_type": "code",
   "execution_count": 2,
   "id": "sublime-crack",
   "metadata": {},
   "outputs": [],
   "source": [
    "seed=100\n",
    "keras.utils.set_random_seed(seed)\n",
    "tf.config.experimental.enable_op_determinism()\n",
    "# all seeds used: 100, 10, 2, 43301, 52647, 69736, 71747, 77395, 8925, 9417"
   ]
  },
  {
   "cell_type": "markdown",
   "id": "directed-airline",
   "metadata": {},
   "source": [
    "### **Set configurations**"
   ]
  },
  {
   "cell_type": "code",
   "execution_count": 3,
   "id": "sharp-terrorist",
   "metadata": {},
   "outputs": [],
   "source": [
    "# set your workspace and data files\n",
    "root_dir = \"/home/lenkne/shared/StLouisRiver/\"\n",
    "data_dir = root_dir + \"st_louis_augment_overlap_128/\"\n",
    "data_stats_filepath = data_dir + \"augment_stats.json\"\n",
    "model_filepath = root_dir + f\"model-seed-{seed}.keras\"\n",
    "\n",
    "# define model parameters\n",
    "n_epochs = 100\n",
    "n_classes = 8 # 7 actual land cover clases and unlabeled backgroud\n",
    "patch_height = 256\n",
    "patch_width  = 256\n",
    "patch_channels = 4 # we use 4-band NAIP imagery\n",
    "batch_size = 64\n",
    "learning_rate = 0.001\n",
    "backbone = \"resnet34\""
   ]
  },
  {
   "cell_type": "markdown",
   "id": "coordinated-august",
   "metadata": {},
   "source": [
    "We can configure the model with class weights to give more attention to the minority classes. This allows us to balance under-represented (such as \"rocky\") and over-represented (such as \"water\") classes in the training set. Remember: we have sparsely labeled training data, so in this process we also set the weight of the \"unlabeled background\" to 0 to make sure the model ignores it."
   ]
  },
  {
   "cell_type": "code",
   "execution_count": 4,
   "id": "hybrid-worth",
   "metadata": {},
   "outputs": [
    {
     "name": "stdout",
     "output_type": "stream",
     "text": [
      "Distribution of feature counts by class: {'5': 1010, '6': 265, '7': 861, '1': 589, '3': 413, '4': 543, '2': 300}\n",
      "Resulting class weights: [0, 6.758913412563667, 13.27, 9.639225181598063, 7.331491712707182, 3.9415841584158415, 15.022641509433962, 4.623693379790941]\n"
     ]
    }
   ],
   "source": [
    "# load pre-computed class statistics\n",
    "class_feature_counts = json.load(open(data_stats_filepath))[\"numFeaturesPerClass\"][\"train\"]\n",
    "class_weights = class_counts_to_weights(class_feature_counts=class_feature_counts, n_classes=n_classes, sparse=True)\n",
    "print (\"Distribution of feature counts by class:\", class_feature_counts)\n",
    "print (\"Resulting class weights:\", class_weights)"
   ]
  },
  {
   "cell_type": "markdown",
   "id": "vietnamese-locator",
   "metadata": {},
   "source": [
    "### **Load training data**"
   ]
  },
  {
   "cell_type": "markdown",
   "id": "divided-explorer",
   "metadata": {},
   "source": [
    "We load the pre-processed training dataset that consists of 256 by 256 patches with image arrays and corresponding label arrays."
   ]
  },
  {
   "cell_type": "code",
   "execution_count": 5,
   "id": "executed-lithuania",
   "metadata": {},
   "outputs": [
    {
     "name": "stdout",
     "output_type": "stream",
     "text": [
      "Image dataset shape: (3471, 256, 256, 4)\n"
     ]
    }
   ],
   "source": [
    "image_patches = load_patches(data_dir, subset=\"train\", which=\"images\", onehot=False)\n",
    "print (\"Image dataset shape:\", image_patches.shape)"
   ]
  },
  {
   "cell_type": "code",
   "execution_count": 6,
   "id": "improved-pricing",
   "metadata": {},
   "outputs": [
    {
     "name": "stdout",
     "output_type": "stream",
     "text": [
      "Label dataset shape: (3471, 256, 256, 8)\n"
     ]
    }
   ],
   "source": [
    "label_patches = load_patches(data_dir, subset=\"train\", which=\"labels\", onehot=True)\n",
    "print (\"Label dataset shape:\", label_patches.shape)"
   ]
  },
  {
   "cell_type": "markdown",
   "id": "lesbian-double",
   "metadata": {},
   "source": [
    "Note that the initial split into train and test was accomplished at the polygon level during transformation of the polygons and imagery into patches. Here we further split the train dataset into train and validation."
   ]
  },
  {
   "cell_type": "code",
   "execution_count": 7,
   "id": "dietary-reproduction",
   "metadata": {},
   "outputs": [
    {
     "name": "stdout",
     "output_type": "stream",
     "text": [
      "Train image dataset shape: (2776, 256, 256, 4)\n",
      "Val image dataset shape: (695, 256, 256, 4)\n"
     ]
    }
   ],
   "source": [
    "X_train, X_val, y_train, y_val = train_test_split(\n",
    "    image_patches, label_patches, train_size=0.8, random_state=42\n",
    ")\n",
    "print (\"Train image dataset shape:\", X_train.shape)\n",
    "print (\"Val image dataset shape:\", X_val.shape)"
   ]
  },
  {
   "cell_type": "markdown",
   "id": "equipped-aaron",
   "metadata": {},
   "source": [
    "### **Compile a model**"
   ]
  },
  {
   "cell_type": "code",
   "execution_count": 8,
   "id": "reported-thinking",
   "metadata": {},
   "outputs": [
    {
     "name": "stderr",
     "output_type": "stream",
     "text": [
      "2025-01-23 09:22:14.645812: I tensorflow/core/common_runtime/gpu/gpu_device.cc:1929] Created device /job:localhost/replica:0/task:0/device:GPU:0 with 43598 MB memory:  -> device: 0, name: NVIDIA A40, pci bus id: 0000:4c:00.0, compute capability: 8.6\n"
     ]
    }
   ],
   "source": [
    "model = compile_unet(\n",
    "    backbone=backbone, patch_height=patch_height, patch_width=patch_width,\n",
    "    patch_channels=patch_channels, n_classes=n_classes, activation=\"softmax\",\n",
    "    class_weights=class_weights, learning_rate=learning_rate)\n",
    "checkpoint = ModelCheckpoint(model_filepath, monitor=\"val_loss\", save_best_only=True)\n",
    "callbacks = [checkpoint]"
   ]
  },
  {
   "cell_type": "markdown",
   "id": "explicit-lafayette",
   "metadata": {},
   "source": [
    "### **Train a model**"
   ]
  },
  {
   "cell_type": "markdown",
   "id": "dependent-butterfly",
   "metadata": {},
   "source": [
    "This is often the longest part of the process and can run efficiently when using GPUs."
   ]
  },
  {
   "cell_type": "code",
   "execution_count": 9,
   "id": "structured-acrylic",
   "metadata": {},
   "outputs": [
    {
     "name": "stdout",
     "output_type": "stream",
     "text": [
      "Epoch 1/100\n"
     ]
    },
    {
     "name": "stderr",
     "output_type": "stream",
     "text": [
      "2025-01-23 09:22:36.455688: I external/local_xla/xla/stream_executor/cuda/cuda_dnn.cc:454] Loaded cuDNN version 8907\n",
      "2025-01-23 09:22:38.305258: E external/local_xla/xla/stream_executor/gpu/asm_compiler.cc:115] *** WARNING *** You are using ptxas 10.0.145, which is older than 11.1. ptxas before 11.1 is known to miscompile XLA code, leading to incorrect results or invalid-address errors.\n",
      "\n",
      "2025-01-23 09:22:38.308056: W external/local_xla/xla/stream_executor/gpu/asm_compiler.cc:225] Falling back to the CUDA driver for PTX compilation; ptxas does not support CC 8.6\n",
      "2025-01-23 09:22:38.308073: W external/local_xla/xla/stream_executor/gpu/asm_compiler.cc:228] Used ptxas at ptxas\n",
      "2025-01-23 09:22:38.308141: W external/local_xla/xla/stream_executor/gpu/redzone_allocator.cc:322] UNIMPLEMENTED: ptxas ptxas too old. Falling back to the driver to compile.\n",
      "Relying on driver to perform ptx compilation. \n",
      "Modify $PATH to customize ptxas location.\n",
      "This message will be only logged once.\n",
      "2025-01-23 09:22:38.833362: E external/local_xla/xla/stream_executor/gpu/asm_compiler.cc:115] *** WARNING *** You are using ptxas 10.0.145, which is older than 11.1. ptxas before 11.1 is known to miscompile XLA code, leading to incorrect results or invalid-address errors.\n",
      "\n",
      "2025-01-23 09:22:38.836811: W tensorflow/compiler/mlir/tools/kernel_gen/transforms/gpu_kernel_to_blob_pass.cc:191] Failed to compile generated PTX with ptxas. Falling back to compilation by driver.\n",
      "2025-01-23 09:22:40.687847: E external/local_xla/xla/stream_executor/gpu/asm_compiler.cc:115] *** WARNING *** You are using ptxas 10.0.145, which is older than 11.1. ptxas before 11.1 is known to miscompile XLA code, leading to incorrect results or invalid-address errors.\n",
      "\n",
      "2025-01-23 09:22:40.691537: W tensorflow/compiler/mlir/tools/kernel_gen/transforms/gpu_kernel_to_blob_pass.cc:191] Failed to compile generated PTX with ptxas. Falling back to compilation by driver.\n",
      "2025-01-23 09:22:40.897805: E external/local_xla/xla/stream_executor/gpu/asm_compiler.cc:115] *** WARNING *** You are using ptxas 10.0.145, which is older than 11.1. ptxas before 11.1 is known to miscompile XLA code, leading to incorrect results or invalid-address errors.\n",
      "\n",
      "2025-01-23 09:22:40.901999: E external/local_xla/xla/stream_executor/gpu/asm_compiler.cc:115] *** WARNING *** You are using ptxas 10.0.145, which is older than 11.1. ptxas before 11.1 is known to miscompile XLA code, leading to incorrect results or invalid-address errors.\n",
      "\n",
      "2025-01-23 09:22:40.903388: W tensorflow/compiler/mlir/tools/kernel_gen/transforms/gpu_kernel_to_blob_pass.cc:191] Failed to compile generated PTX with ptxas. Falling back to compilation by driver.\n",
      "2025-01-23 09:22:40.904144: E external/local_xla/xla/stream_executor/gpu/asm_compiler.cc:115] *** WARNING *** You are using ptxas 10.0.145, which is older than 11.1. ptxas before 11.1 is known to miscompile XLA code, leading to incorrect results or invalid-address errors.\n",
      "\n",
      "2025-01-23 09:22:40.904944: W tensorflow/compiler/mlir/tools/kernel_gen/transforms/gpu_kernel_to_blob_pass.cc:191] Failed to compile generated PTX with ptxas. Falling back to compilation by driver.\n",
      "2025-01-23 09:22:40.906442: E external/local_xla/xla/stream_executor/gpu/asm_compiler.cc:115] *** WARNING *** You are using ptxas 10.0.145, which is older than 11.1. ptxas before 11.1 is known to miscompile XLA code, leading to incorrect results or invalid-address errors.\n",
      "\n",
      "2025-01-23 09:22:40.906948: E external/local_xla/xla/stream_executor/gpu/asm_compiler.cc:115] *** WARNING *** You are using ptxas 10.0.145, which is older than 11.1. ptxas before 11.1 is known to miscompile XLA code, leading to incorrect results or invalid-address errors.\n",
      "\n",
      "2025-01-23 09:22:40.907948: E external/local_xla/xla/stream_executor/gpu/asm_compiler.cc:115] *** WARNING *** You are using ptxas 10.0.145, which is older than 11.1. ptxas before 11.1 is known to miscompile XLA code, leading to incorrect results or invalid-address errors.\n",
      "\n",
      "2025-01-23 09:22:40.909118: E external/local_xla/xla/stream_executor/gpu/asm_compiler.cc:115] *** WARNING *** You are using ptxas 10.0.145, which is older than 11.1. ptxas before 11.1 is known to miscompile XLA code, leading to incorrect results or invalid-address errors.\n",
      "\n",
      "2025-01-23 09:22:40.909176: E external/local_xla/xla/stream_executor/gpu/asm_compiler.cc:115] *** WARNING *** You are using ptxas 10.0.145, which is older than 11.1. ptxas before 11.1 is known to miscompile XLA code, leading to incorrect results or invalid-address errors.\n",
      "\n",
      "2025-01-23 09:22:40.910471: W tensorflow/compiler/mlir/tools/kernel_gen/transforms/gpu_kernel_to_blob_pass.cc:191] Failed to compile generated PTX with ptxas. Falling back to compilation by driver.\n",
      "2025-01-23 09:22:40.911859: W tensorflow/compiler/mlir/tools/kernel_gen/transforms/gpu_kernel_to_blob_pass.cc:191] Failed to compile generated PTX with ptxas. Falling back to compilation by driver.\n",
      "2025-01-23 09:22:40.911894: W tensorflow/compiler/mlir/tools/kernel_gen/transforms/gpu_kernel_to_blob_pass.cc:191] Failed to compile generated PTX with ptxas. Falling back to compilation by driver.\n",
      "2025-01-23 09:22:40.912413: W tensorflow/compiler/mlir/tools/kernel_gen/transforms/gpu_kernel_to_blob_pass.cc:191] Failed to compile generated PTX with ptxas. Falling back to compilation by driver.\n",
      "2025-01-23 09:22:40.912739: W tensorflow/compiler/mlir/tools/kernel_gen/transforms/gpu_kernel_to_blob_pass.cc:191] Failed to compile generated PTX with ptxas. Falling back to compilation by driver.\n",
      "2025-01-23 09:22:40.912755: W tensorflow/compiler/mlir/tools/kernel_gen/transforms/gpu_kernel_to_blob_pass.cc:191] Failed to compile generated PTX with ptxas. Falling back to compilation by driver.\n",
      "2025-01-23 09:22:41.181404: E external/local_xla/xla/stream_executor/gpu/asm_compiler.cc:115] *** WARNING *** You are using ptxas 10.0.145, which is older than 11.1. ptxas before 11.1 is known to miscompile XLA code, leading to incorrect results or invalid-address errors.\n",
      "\n",
      "2025-01-23 09:22:41.181956: E external/local_xla/xla/stream_executor/gpu/asm_compiler.cc:115] *** WARNING *** You are using ptxas 10.0.145, which is older than 11.1. ptxas before 11.1 is known to miscompile XLA code, leading to incorrect results or invalid-address errors.\n",
      "\n",
      "2025-01-23 09:22:41.183593: E external/local_xla/xla/stream_executor/gpu/asm_compiler.cc:115] *** WARNING *** You are using ptxas 10.0.145, which is older than 11.1. ptxas before 11.1 is known to miscompile XLA code, leading to incorrect results or invalid-address errors.\n",
      "\n",
      "2025-01-23 09:22:41.184900: E external/local_xla/xla/stream_executor/gpu/asm_compiler.cc:115] *** WARNING *** You are using ptxas 10.0.145, which is older than 11.1. ptxas before 11.1 is known to miscompile XLA code, leading to incorrect results or invalid-address errors.\n",
      "\n",
      "2025-01-23 09:22:41.186134: E external/local_xla/xla/stream_executor/gpu/asm_compiler.cc:115] *** WARNING *** You are using ptxas 10.0.145, which is older than 11.1. ptxas before 11.1 is known to miscompile XLA code, leading to incorrect results or invalid-address errors.\n",
      "\n",
      "2025-01-23 09:22:41.186324: W tensorflow/compiler/mlir/tools/kernel_gen/transforms/gpu_kernel_to_blob_pass.cc:191] Failed to compile generated PTX with ptxas. Falling back to compilation by driver.\n",
      "2025-01-23 09:22:41.186383: E external/local_xla/xla/stream_executor/gpu/asm_compiler.cc:115] *** WARNING *** You are using ptxas 10.0.145, which is older than 11.1. ptxas before 11.1 is known to miscompile XLA code, leading to incorrect results or invalid-address errors.\n",
      "\n",
      "2025-01-23 09:22:41.186447: W tensorflow/compiler/mlir/tools/kernel_gen/transforms/gpu_kernel_to_blob_pass.cc:191] Failed to compile generated PTX with ptxas. Falling back to compilation by driver.\n",
      "2025-01-23 09:22:41.186487: E external/local_xla/xla/stream_executor/gpu/asm_compiler.cc:115] *** WARNING *** You are using ptxas 10.0.145, which is older than 11.1. ptxas before 11.1 is known to miscompile XLA code, leading to incorrect results or invalid-address errors.\n",
      "\n",
      "2025-01-23 09:22:41.186519: E external/local_xla/xla/stream_executor/gpu/asm_compiler.cc:115] *** WARNING *** You are using ptxas 10.0.145, which is older than 11.1. ptxas before 11.1 is known to miscompile XLA code, leading to incorrect results or invalid-address errors.\n",
      "\n",
      "2025-01-23 09:22:41.187384: W tensorflow/compiler/mlir/tools/kernel_gen/transforms/gpu_kernel_to_blob_pass.cc:191] Failed to compile generated PTX with ptxas. Falling back to compilation by driver.\n",
      "2025-01-23 09:22:41.187583: W tensorflow/compiler/mlir/tools/kernel_gen/transforms/gpu_kernel_to_blob_pass.cc:191] Failed to compile generated PTX with ptxas. Falling back to compilation by driver.\n",
      "2025-01-23 09:22:41.189778: W tensorflow/compiler/mlir/tools/kernel_gen/transforms/gpu_kernel_to_blob_pass.cc:191] Failed to compile generated PTX with ptxas. Falling back to compilation by driver.\n",
      "2025-01-23 09:22:41.189795: W tensorflow/compiler/mlir/tools/kernel_gen/transforms/gpu_kernel_to_blob_pass.cc:191] Failed to compile generated PTX with ptxas. Falling back to compilation by driver.\n",
      "2025-01-23 09:22:41.189908: W tensorflow/compiler/mlir/tools/kernel_gen/transforms/gpu_kernel_to_blob_pass.cc:191] Failed to compile generated PTX with ptxas. Falling back to compilation by driver.\n",
      "2025-01-23 09:22:41.189925: W tensorflow/compiler/mlir/tools/kernel_gen/transforms/gpu_kernel_to_blob_pass.cc:191] Failed to compile generated PTX with ptxas. Falling back to compilation by driver.\n",
      "2025-01-23 09:22:41.392635: E external/local_xla/xla/stream_executor/gpu/asm_compiler.cc:115] *** WARNING *** You are using ptxas 10.0.145, which is older than 11.1. ptxas before 11.1 is known to miscompile XLA code, leading to incorrect results or invalid-address errors.\n",
      "\n",
      "2025-01-23 09:22:41.395798: W tensorflow/compiler/mlir/tools/kernel_gen/transforms/gpu_kernel_to_blob_pass.cc:191] Failed to compile generated PTX with ptxas. Falling back to compilation by driver.\n",
      "2025-01-23 09:22:41.535183: E external/local_xla/xla/stream_executor/gpu/asm_compiler.cc:115] *** WARNING *** You are using ptxas 10.0.145, which is older than 11.1. ptxas before 11.1 is known to miscompile XLA code, leading to incorrect results or invalid-address errors.\n",
      "\n",
      "2025-01-23 09:22:41.538309: W tensorflow/compiler/mlir/tools/kernel_gen/transforms/gpu_kernel_to_blob_pass.cc:191] Failed to compile generated PTX with ptxas. Falling back to compilation by driver.\n",
      "2025-01-23 09:22:41.570234: E external/local_xla/xla/stream_executor/gpu/asm_compiler.cc:115] *** WARNING *** You are using ptxas 10.0.145, which is older than 11.1. ptxas before 11.1 is known to miscompile XLA code, leading to incorrect results or invalid-address errors.\n",
      "\n",
      "2025-01-23 09:22:41.573302: W tensorflow/compiler/mlir/tools/kernel_gen/transforms/gpu_kernel_to_blob_pass.cc:191] Failed to compile generated PTX with ptxas. Falling back to compilation by driver.\n",
      "2025-01-23 09:22:41.729156: E external/local_xla/xla/stream_executor/gpu/asm_compiler.cc:115] *** WARNING *** You are using ptxas 10.0.145, which is older than 11.1. ptxas before 11.1 is known to miscompile XLA code, leading to incorrect results or invalid-address errors.\n",
      "\n",
      "2025-01-23 09:22:41.730492: E external/local_xla/xla/stream_executor/gpu/asm_compiler.cc:115] *** WARNING *** You are using ptxas 10.0.145, which is older than 11.1. ptxas before 11.1 is known to miscompile XLA code, leading to incorrect results or invalid-address errors.\n",
      "\n",
      "2025-01-23 09:22:41.730586: E external/local_xla/xla/stream_executor/gpu/asm_compiler.cc:115] *** WARNING *** You are using ptxas 10.0.145, which is older than 11.1. ptxas before 11.1 is known to miscompile XLA code, leading to incorrect results or invalid-address errors.\n",
      "\n",
      "2025-01-23 09:22:41.730794: E external/local_xla/xla/stream_executor/gpu/asm_compiler.cc:115] *** WARNING *** You are using ptxas 10.0.145, which is older than 11.1. ptxas before 11.1 is known to miscompile XLA code, leading to incorrect results or invalid-address errors.\n",
      "\n",
      "2025-01-23 09:22:41.731615: E external/local_xla/xla/stream_executor/gpu/asm_compiler.cc:115] *** WARNING *** You are using ptxas 10.0.145, which is older than 11.1. ptxas before 11.1 is known to miscompile XLA code, leading to incorrect results or invalid-address errors.\n",
      "\n",
      "2025-01-23 09:22:41.731687: E external/local_xla/xla/stream_executor/gpu/asm_compiler.cc:115] *** WARNING *** You are using ptxas 10.0.145, which is older than 11.1. ptxas before 11.1 is known to miscompile XLA code, leading to incorrect results or invalid-address errors.\n",
      "\n",
      "2025-01-23 09:22:41.732579: W tensorflow/compiler/mlir/tools/kernel_gen/transforms/gpu_kernel_to_blob_pass.cc:191] Failed to compile generated PTX with ptxas. Falling back to compilation by driver.\n",
      "2025-01-23 09:22:41.733256: E external/local_xla/xla/stream_executor/gpu/asm_compiler.cc:115] *** WARNING *** You are using ptxas 10.0.145, which is older than 11.1. ptxas before 11.1 is known to miscompile XLA code, leading to incorrect results or invalid-address errors.\n",
      "\n",
      "2025-01-23 09:22:41.733505: E external/local_xla/xla/stream_executor/gpu/asm_compiler.cc:115] *** WARNING *** You are using ptxas 10.0.145, which is older than 11.1. ptxas before 11.1 is known to miscompile XLA code, leading to incorrect results or invalid-address errors.\n",
      "\n",
      "2025-01-23 09:22:41.734145: E external/local_xla/xla/stream_executor/gpu/asm_compiler.cc:115] *** WARNING *** You are using ptxas 10.0.145, which is older than 11.1. ptxas before 11.1 is known to miscompile XLA code, leading to incorrect results or invalid-address errors.\n",
      "\n",
      "2025-01-23 09:22:41.735237: W tensorflow/compiler/mlir/tools/kernel_gen/transforms/gpu_kernel_to_blob_pass.cc:191] Failed to compile generated PTX with ptxas. Falling back to compilation by driver.\n",
      "2025-01-23 09:22:41.735256: W tensorflow/compiler/mlir/tools/kernel_gen/transforms/gpu_kernel_to_blob_pass.cc:191] Failed to compile generated PTX with ptxas. Falling back to compilation by driver.\n",
      "2025-01-23 09:22:41.736962: W tensorflow/compiler/mlir/tools/kernel_gen/transforms/gpu_kernel_to_blob_pass.cc:191] Failed to compile generated PTX with ptxas. Falling back to compilation by driver.\n",
      "2025-01-23 09:22:41.736978: W tensorflow/compiler/mlir/tools/kernel_gen/transforms/gpu_kernel_to_blob_pass.cc:191] Failed to compile generated PTX with ptxas. Falling back to compilation by driver.\n",
      "2025-01-23 09:22:41.736993: W tensorflow/compiler/mlir/tools/kernel_gen/transforms/gpu_kernel_to_blob_pass.cc:191] Failed to compile generated PTX with ptxas. Falling back to compilation by driver.\n",
      "2025-01-23 09:22:41.738123: W tensorflow/compiler/mlir/tools/kernel_gen/transforms/gpu_kernel_to_blob_pass.cc:191] Failed to compile generated PTX with ptxas. Falling back to compilation by driver.\n",
      "2025-01-23 09:22:41.738136: W tensorflow/compiler/mlir/tools/kernel_gen/transforms/gpu_kernel_to_blob_pass.cc:191] Failed to compile generated PTX with ptxas. Falling back to compilation by driver.\n",
      "2025-01-23 09:22:41.738446: W tensorflow/compiler/mlir/tools/kernel_gen/transforms/gpu_kernel_to_blob_pass.cc:191] Failed to compile generated PTX with ptxas. Falling back to compilation by driver.\n",
      "2025-01-23 09:22:42.683451: I external/local_xla/xla/service/service.cc:168] XLA service 0x7f25b1c61410 initialized for platform CUDA (this does not guarantee that XLA will be used). Devices:\n",
      "2025-01-23 09:22:42.683487: I external/local_xla/xla/service/service.cc:176]   StreamExecutor device (0): NVIDIA A40, Compute Capability 8.6\n",
      "2025-01-23 09:22:42.833046: I tensorflow/compiler/mlir/tensorflow/utils/dump_mlir_util.cc:269] disabling MLIR crash reproducer, set env var `MLIR_CRASH_REPRODUCER_DIRECTORY` to enable.\n",
      "2025-01-23 09:22:42.997336: E external/local_xla/xla/stream_executor/gpu/asm_compiler.cc:115] *** WARNING *** You are using ptxas 10.0.145, which is older than 11.1. ptxas before 11.1 is known to miscompile XLA code, leading to incorrect results or invalid-address errors.\n",
      "\n",
      "WARNING: All log messages before absl::InitializeLog() is called are written to STDERR\n",
      "I0000 00:00:1737645763.038747 1098299 device_compiler.h:186] Compiled cluster using XLA!  This line is logged at most once for the lifetime of the process.\n",
      "2025-01-23 09:22:43.077895: E external/local_xla/xla/stream_executor/gpu/asm_compiler.cc:115] *** WARNING *** You are using ptxas 10.0.145, which is older than 11.1. ptxas before 11.1 is known to miscompile XLA code, leading to incorrect results or invalid-address errors.\n",
      "\n",
      "2025-01-23 09:22:43.237243: E external/local_xla/xla/stream_executor/gpu/asm_compiler.cc:115] *** WARNING *** You are using ptxas 10.0.145, which is older than 11.1. ptxas before 11.1 is known to miscompile XLA code, leading to incorrect results or invalid-address errors.\n",
      "\n",
      "2025-01-23 09:22:43.342604: E external/local_xla/xla/stream_executor/gpu/asm_compiler.cc:115] *** WARNING *** You are using ptxas 10.0.145, which is older than 11.1. ptxas before 11.1 is known to miscompile XLA code, leading to incorrect results or invalid-address errors.\n",
      "\n",
      "2025-01-23 09:22:43.497638: E external/local_xla/xla/stream_executor/gpu/asm_compiler.cc:115] *** WARNING *** You are using ptxas 10.0.145, which is older than 11.1. ptxas before 11.1 is known to miscompile XLA code, leading to incorrect results or invalid-address errors.\n",
      "\n",
      "2025-01-23 09:22:43.554753: E external/local_xla/xla/stream_executor/gpu/asm_compiler.cc:115] *** WARNING *** You are using ptxas 10.0.145, which is older than 11.1. ptxas before 11.1 is known to miscompile XLA code, leading to incorrect results or invalid-address errors.\n",
      "\n",
      "2025-01-23 09:22:43.695127: E external/local_xla/xla/stream_executor/gpu/asm_compiler.cc:115] *** WARNING *** You are using ptxas 10.0.145, which is older than 11.1. ptxas before 11.1 is known to miscompile XLA code, leading to incorrect results or invalid-address errors.\n",
      "\n",
      "2025-01-23 09:22:43.877341: E external/local_xla/xla/stream_executor/gpu/asm_compiler.cc:115] *** WARNING *** You are using ptxas 10.0.145, which is older than 11.1. ptxas before 11.1 is known to miscompile XLA code, leading to incorrect results or invalid-address errors.\n",
      "\n",
      "2025-01-23 09:22:43.936326: E external/local_xla/xla/stream_executor/gpu/asm_compiler.cc:115] *** WARNING *** You are using ptxas 10.0.145, which is older than 11.1. ptxas before 11.1 is known to miscompile XLA code, leading to incorrect results or invalid-address errors.\n",
      "\n",
      "2025-01-23 09:22:44.036712: E external/local_xla/xla/stream_executor/gpu/asm_compiler.cc:115] *** WARNING *** You are using ptxas 10.0.145, which is older than 11.1. ptxas before 11.1 is known to miscompile XLA code, leading to incorrect results or invalid-address errors.\n",
      "\n",
      "2025-01-23 09:22:44.211155: E external/local_xla/xla/stream_executor/gpu/asm_compiler.cc:115] *** WARNING *** You are using ptxas 10.0.145, which is older than 11.1. ptxas before 11.1 is known to miscompile XLA code, leading to incorrect results or invalid-address errors.\n",
      "\n",
      "2025-01-23 09:22:44.271629: E external/local_xla/xla/stream_executor/gpu/asm_compiler.cc:115] *** WARNING *** You are using ptxas 10.0.145, which is older than 11.1. ptxas before 11.1 is known to miscompile XLA code, leading to incorrect results or invalid-address errors.\n",
      "\n",
      "2025-01-23 09:22:44.376807: E external/local_xla/xla/stream_executor/gpu/asm_compiler.cc:115] *** WARNING *** You are using ptxas 10.0.145, which is older than 11.1. ptxas before 11.1 is known to miscompile XLA code, leading to incorrect results or invalid-address errors.\n",
      "\n",
      "2025-01-23 09:22:44.550888: E external/local_xla/xla/stream_executor/gpu/asm_compiler.cc:115] *** WARNING *** You are using ptxas 10.0.145, which is older than 11.1. ptxas before 11.1 is known to miscompile XLA code, leading to incorrect results or invalid-address errors.\n",
      "\n",
      "2025-01-23 09:22:44.607564: E external/local_xla/xla/stream_executor/gpu/asm_compiler.cc:115] *** WARNING *** You are using ptxas 10.0.145, which is older than 11.1. ptxas before 11.1 is known to miscompile XLA code, leading to incorrect results or invalid-address errors.\n",
      "\n",
      "2025-01-23 09:22:44.724695: E external/local_xla/xla/stream_executor/gpu/asm_compiler.cc:115] *** WARNING *** You are using ptxas 10.0.145, which is older than 11.1. ptxas before 11.1 is known to miscompile XLA code, leading to incorrect results or invalid-address errors.\n",
      "\n",
      "2025-01-23 09:22:44.909738: E external/local_xla/xla/stream_executor/gpu/asm_compiler.cc:115] *** WARNING *** You are using ptxas 10.0.145, which is older than 11.1. ptxas before 11.1 is known to miscompile XLA code, leading to incorrect results or invalid-address errors.\n",
      "\n",
      "2025-01-23 09:22:44.964691: E external/local_xla/xla/stream_executor/gpu/asm_compiler.cc:115] *** WARNING *** You are using ptxas 10.0.145, which is older than 11.1. ptxas before 11.1 is known to miscompile XLA code, leading to incorrect results or invalid-address errors.\n",
      "\n",
      "2025-01-23 09:22:45.101404: E external/local_xla/xla/stream_executor/gpu/asm_compiler.cc:115] *** WARNING *** You are using ptxas 10.0.145, which is older than 11.1. ptxas before 11.1 is known to miscompile XLA code, leading to incorrect results or invalid-address errors.\n",
      "\n",
      "2025-01-23 09:22:45.799090: E external/local_xla/xla/stream_executor/gpu/asm_compiler.cc:115] *** WARNING *** You are using ptxas 10.0.145, which is older than 11.1. ptxas before 11.1 is known to miscompile XLA code, leading to incorrect results or invalid-address errors.\n",
      "\n",
      "2025-01-23 09:22:45.962508: E external/local_xla/xla/stream_executor/gpu/asm_compiler.cc:115] *** WARNING *** You are using ptxas 10.0.145, which is older than 11.1. ptxas before 11.1 is known to miscompile XLA code, leading to incorrect results or invalid-address errors.\n",
      "\n",
      "2025-01-23 09:22:46.148499: E external/local_xla/xla/stream_executor/gpu/asm_compiler.cc:115] *** WARNING *** You are using ptxas 10.0.145, which is older than 11.1. ptxas before 11.1 is known to miscompile XLA code, leading to incorrect results or invalid-address errors.\n",
      "\n",
      "2025-01-23 09:22:47.613291: E external/local_xla/xla/stream_executor/gpu/asm_compiler.cc:115] *** WARNING *** You are using ptxas 10.0.145, which is older than 11.1. ptxas before 11.1 is known to miscompile XLA code, leading to incorrect results or invalid-address errors.\n",
      "\n",
      "2025-01-23 09:22:47.765035: E external/local_xla/xla/stream_executor/gpu/asm_compiler.cc:115] *** WARNING *** You are using ptxas 10.0.145, which is older than 11.1. ptxas before 11.1 is known to miscompile XLA code, leading to incorrect results or invalid-address errors.\n",
      "\n",
      "2025-01-23 09:22:47.919114: E external/local_xla/xla/stream_executor/gpu/asm_compiler.cc:115] *** WARNING *** You are using ptxas 10.0.145, which is older than 11.1. ptxas before 11.1 is known to miscompile XLA code, leading to incorrect results or invalid-address errors.\n",
      "\n",
      "2025-01-23 09:22:48.814065: E external/local_xla/xla/stream_executor/gpu/asm_compiler.cc:115] *** WARNING *** You are using ptxas 10.0.145, which is older than 11.1. ptxas before 11.1 is known to miscompile XLA code, leading to incorrect results or invalid-address errors.\n",
      "\n",
      "2025-01-23 09:22:48.966969: E external/local_xla/xla/stream_executor/gpu/asm_compiler.cc:115] *** WARNING *** You are using ptxas 10.0.145, which is older than 11.1. ptxas before 11.1 is known to miscompile XLA code, leading to incorrect results or invalid-address errors.\n",
      "\n",
      "2025-01-23 09:22:49.121166: E external/local_xla/xla/stream_executor/gpu/asm_compiler.cc:115] *** WARNING *** You are using ptxas 10.0.145, which is older than 11.1. ptxas before 11.1 is known to miscompile XLA code, leading to incorrect results or invalid-address errors.\n",
      "\n",
      "2025-01-23 09:22:49.696434: E external/local_xla/xla/stream_executor/gpu/asm_compiler.cc:115] *** WARNING *** You are using ptxas 10.0.145, which is older than 11.1. ptxas before 11.1 is known to miscompile XLA code, leading to incorrect results or invalid-address errors.\n",
      "\n"
     ]
    },
    {
     "name": "stdout",
     "output_type": "stream",
     "text": [
      " 1/87 [..............................] - ETA: 30:21 - loss: 0.2131 - iou_score: 0.0908"
     ]
    },
    {
     "name": "stderr",
     "output_type": "stream",
     "text": [
      "2025-01-23 09:22:50.212188: E external/local_xla/xla/stream_executor/gpu/asm_compiler.cc:115] *** WARNING *** You are using ptxas 10.0.145, which is older than 11.1. ptxas before 11.1 is known to miscompile XLA code, leading to incorrect results or invalid-address errors.\n",
      "\n",
      "2025-01-23 09:22:50.263947: E external/local_xla/xla/stream_executor/gpu/asm_compiler.cc:115] *** WARNING *** You are using ptxas 10.0.145, which is older than 11.1. ptxas before 11.1 is known to miscompile XLA code, leading to incorrect results or invalid-address errors.\n",
      "\n"
     ]
    },
    {
     "name": "stdout",
     "output_type": "stream",
     "text": [
      "87/87 [==============================] - 42s 244ms/step - loss: 0.0723 - iou_score: 0.2927 - val_loss: 0.3712 - val_iou_score: 0.1623\n",
      "Epoch 2/100\n",
      "87/87 [==============================] - 18s 209ms/step - loss: 0.0426 - iou_score: 0.3864 - val_loss: 0.0433 - val_iou_score: 0.3702\n",
      "Epoch 3/100\n",
      "87/87 [==============================] - 17s 191ms/step - loss: 0.0369 - iou_score: 0.4337 - val_loss: 0.3941 - val_iou_score: 0.3593\n",
      "Epoch 4/100\n",
      "87/87 [==============================] - 18s 205ms/step - loss: 0.0323 - iou_score: 0.4614 - val_loss: 0.0696 - val_iou_score: 0.5312\n",
      "Epoch 5/100\n",
      "87/87 [==============================] - 17s 192ms/step - loss: 0.0312 - iou_score: 0.4761 - val_loss: 0.0507 - val_iou_score: 0.4479\n",
      "Epoch 6/100\n",
      "87/87 [==============================] - 17s 200ms/step - loss: 0.0291 - iou_score: 0.4856 - val_loss: 0.0453 - val_iou_score: 0.4744\n",
      "Epoch 7/100\n",
      "87/87 [==============================] - 17s 197ms/step - loss: 0.0273 - iou_score: 0.5106 - val_loss: 0.0762 - val_iou_score: 0.3566\n",
      "Epoch 8/100\n",
      "87/87 [==============================] - 17s 198ms/step - loss: 0.0314 - iou_score: 0.4872 - val_loss: 0.0230 - val_iou_score: 0.5201\n",
      "Epoch 9/100\n",
      "87/87 [==============================] - 18s 213ms/step - loss: 0.0222 - iou_score: 0.5560 - val_loss: 0.0142 - val_iou_score: 0.6208\n",
      "Epoch 10/100\n",
      "87/87 [==============================] - 17s 193ms/step - loss: 0.0168 - iou_score: 0.6047 - val_loss: 0.0108 - val_iou_score: 0.6347\n",
      "Epoch 11/100\n",
      "87/87 [==============================] - 17s 190ms/step - loss: 0.0187 - iou_score: 0.6035 - val_loss: 0.0204 - val_iou_score: 0.5527\n",
      "Epoch 12/100\n",
      "87/87 [==============================] - 16s 188ms/step - loss: 0.0223 - iou_score: 0.6064 - val_loss: 0.1748 - val_iou_score: 0.5030\n",
      "Epoch 13/100\n",
      "87/87 [==============================] - 15s 168ms/step - loss: 0.0207 - iou_score: 0.6067 - val_loss: 0.0147 - val_iou_score: 0.5895\n",
      "Epoch 14/100\n",
      "87/87 [==============================] - 15s 169ms/step - loss: 0.0180 - iou_score: 0.6163 - val_loss: 0.0156 - val_iou_score: 0.5622\n",
      "Epoch 15/100\n",
      "87/87 [==============================] - 15s 172ms/step - loss: 0.0175 - iou_score: 0.6349 - val_loss: 0.0138 - val_iou_score: 0.6534\n",
      "Epoch 16/100\n",
      "87/87 [==============================] - 15s 174ms/step - loss: 0.0151 - iou_score: 0.6600 - val_loss: 0.0174 - val_iou_score: 0.6264\n",
      "Epoch 17/100\n",
      "87/87 [==============================] - 14s 160ms/step - loss: 0.0166 - iou_score: 0.6648 - val_loss: 0.0137 - val_iou_score: 0.6537\n",
      "Epoch 18/100\n",
      "87/87 [==============================] - 15s 178ms/step - loss: 0.0144 - iou_score: 0.6754 - val_loss: 0.0079 - val_iou_score: 0.6973\n",
      "Epoch 19/100\n",
      "87/87 [==============================] - 15s 167ms/step - loss: 0.0138 - iou_score: 0.6716 - val_loss: 0.0199 - val_iou_score: 0.6513\n",
      "Epoch 20/100\n",
      "87/87 [==============================] - 15s 177ms/step - loss: 0.0130 - iou_score: 0.6862 - val_loss: 0.0079 - val_iou_score: 0.6985\n",
      "Epoch 21/100\n",
      "87/87 [==============================] - 14s 161ms/step - loss: 0.0121 - iou_score: 0.7023 - val_loss: 0.0093 - val_iou_score: 0.6569\n",
      "Epoch 22/100\n",
      "87/87 [==============================] - 14s 158ms/step - loss: 0.0119 - iou_score: 0.7140 - val_loss: 0.0082 - val_iou_score: 0.7185\n",
      "Epoch 23/100\n",
      "87/87 [==============================] - 14s 160ms/step - loss: 0.0112 - iou_score: 0.7170 - val_loss: 0.0088 - val_iou_score: 0.7263\n",
      "Epoch 24/100\n",
      "87/87 [==============================] - 14s 161ms/step - loss: 0.0181 - iou_score: 0.6521 - val_loss: 0.0236 - val_iou_score: 0.7380\n",
      "Epoch 25/100\n",
      "87/87 [==============================] - 14s 164ms/step - loss: 0.0127 - iou_score: 0.6817 - val_loss: 0.0096 - val_iou_score: 0.7122\n",
      "Epoch 26/100\n",
      "87/87 [==============================] - 14s 163ms/step - loss: 0.0136 - iou_score: 0.6963 - val_loss: 0.0128 - val_iou_score: 0.5969\n",
      "Epoch 27/100\n",
      "87/87 [==============================] - 14s 160ms/step - loss: 0.0109 - iou_score: 0.7286 - val_loss: 0.0111 - val_iou_score: 0.7068\n",
      "Epoch 28/100\n",
      "87/87 [==============================] - 15s 172ms/step - loss: 0.0102 - iou_score: 0.7359 - val_loss: 0.0063 - val_iou_score: 0.7142\n",
      "Epoch 29/100\n",
      "87/87 [==============================] - 14s 157ms/step - loss: 0.0161 - iou_score: 0.6747 - val_loss: 0.3062 - val_iou_score: 0.6168\n",
      "Epoch 30/100\n",
      "87/87 [==============================] - 14s 161ms/step - loss: 0.0122 - iou_score: 0.7214 - val_loss: 0.0082 - val_iou_score: 0.7409\n",
      "Epoch 31/100\n",
      "87/87 [==============================] - 14s 158ms/step - loss: 0.0111 - iou_score: 0.7412 - val_loss: 0.0130 - val_iou_score: 0.8049\n",
      "Epoch 32/100\n",
      "87/87 [==============================] - 14s 161ms/step - loss: 0.0102 - iou_score: 0.7245 - val_loss: 0.0066 - val_iou_score: 0.7268\n",
      "Epoch 33/100\n",
      "87/87 [==============================] - 14s 161ms/step - loss: 0.0113 - iou_score: 0.7214 - val_loss: 0.0114 - val_iou_score: 0.6681\n",
      "Epoch 34/100\n",
      "87/87 [==============================] - 15s 177ms/step - loss: 0.0152 - iou_score: 0.7092 - val_loss: 0.0059 - val_iou_score: 0.7391\n",
      "Epoch 35/100\n",
      "87/87 [==============================] - 15s 173ms/step - loss: 0.0075 - iou_score: 0.7679 - val_loss: 0.0054 - val_iou_score: 0.7340\n",
      "Epoch 36/100\n",
      "87/87 [==============================] - 14s 158ms/step - loss: 0.0075 - iou_score: 0.7603 - val_loss: 0.0056 - val_iou_score: 0.7857\n",
      "Epoch 37/100\n",
      "87/87 [==============================] - 15s 171ms/step - loss: 0.0077 - iou_score: 0.7651 - val_loss: 0.0049 - val_iou_score: 0.6949\n",
      "Epoch 38/100\n",
      "87/87 [==============================] - 14s 162ms/step - loss: 0.0071 - iou_score: 0.7368 - val_loss: 0.0061 - val_iou_score: 0.6803\n",
      "Epoch 39/100\n",
      "87/87 [==============================] - 14s 159ms/step - loss: 0.0116 - iou_score: 0.7023 - val_loss: 0.0114 - val_iou_score: 0.6877\n",
      "Epoch 40/100\n",
      "87/87 [==============================] - 14s 160ms/step - loss: 0.0084 - iou_score: 0.7736 - val_loss: 0.0067 - val_iou_score: 0.7067\n",
      "Epoch 41/100\n",
      "87/87 [==============================] - 14s 162ms/step - loss: 0.0087 - iou_score: 0.7534 - val_loss: 0.0089 - val_iou_score: 0.7375\n",
      "Epoch 42/100\n",
      "87/87 [==============================] - 14s 162ms/step - loss: 0.0061 - iou_score: 0.7769 - val_loss: 0.0051 - val_iou_score: 0.7494\n",
      "Epoch 43/100\n",
      "87/87 [==============================] - 14s 158ms/step - loss: 0.0060 - iou_score: 0.7626 - val_loss: 0.0089 - val_iou_score: 0.7109\n",
      "Epoch 44/100\n",
      "87/87 [==============================] - 15s 174ms/step - loss: 0.0051 - iou_score: 0.7612 - val_loss: 0.0026 - val_iou_score: 0.7997\n",
      "Epoch 45/100\n",
      "87/87 [==============================] - 14s 158ms/step - loss: 0.0059 - iou_score: 0.7720 - val_loss: 0.0039 - val_iou_score: 0.6580\n",
      "Epoch 46/100\n",
      "87/87 [==============================] - 14s 160ms/step - loss: 0.0053 - iou_score: 0.7523 - val_loss: 0.0063 - val_iou_score: 0.7532\n",
      "Epoch 47/100\n",
      "87/87 [==============================] - 14s 162ms/step - loss: 0.0058 - iou_score: 0.7734 - val_loss: 0.0677 - val_iou_score: 0.6432\n",
      "Epoch 48/100\n",
      "87/87 [==============================] - 14s 164ms/step - loss: 0.0134 - iou_score: 0.7315 - val_loss: 0.0373 - val_iou_score: 0.7201\n",
      "Epoch 49/100\n",
      "87/87 [==============================] - 15s 167ms/step - loss: 0.0068 - iou_score: 0.7662 - val_loss: 0.0043 - val_iou_score: 0.7994\n",
      "Epoch 50/100\n",
      "87/87 [==============================] - 14s 162ms/step - loss: 0.0080 - iou_score: 0.7749 - val_loss: 0.0051 - val_iou_score: 0.7701\n",
      "Epoch 51/100\n",
      "87/87 [==============================] - 14s 165ms/step - loss: 0.0068 - iou_score: 0.7436 - val_loss: 0.0056 - val_iou_score: 0.7316\n",
      "Epoch 52/100\n",
      "87/87 [==============================] - 14s 161ms/step - loss: 0.0054 - iou_score: 0.7662 - val_loss: 0.0045 - val_iou_score: 0.8266\n",
      "Epoch 53/100\n",
      "87/87 [==============================] - 14s 159ms/step - loss: 0.0044 - iou_score: 0.7811 - val_loss: 0.0029 - val_iou_score: 0.7019\n",
      "Epoch 54/100\n",
      "87/87 [==============================] - 14s 162ms/step - loss: 0.0045 - iou_score: 0.7720 - val_loss: 0.0036 - val_iou_score: 0.7062\n",
      "Epoch 55/100\n",
      "87/87 [==============================] - 14s 165ms/step - loss: 0.0044 - iou_score: 0.7863 - val_loss: 0.0031 - val_iou_score: 0.7391\n",
      "Epoch 56/100\n",
      "87/87 [==============================] - 14s 163ms/step - loss: 0.0170 - iou_score: 0.6862 - val_loss: 0.0093 - val_iou_score: 0.7457\n",
      "Epoch 57/100\n",
      "87/87 [==============================] - 14s 160ms/step - loss: 0.0077 - iou_score: 0.7583 - val_loss: 0.0044 - val_iou_score: 0.7800\n",
      "Epoch 58/100\n",
      "87/87 [==============================] - 14s 162ms/step - loss: 0.0066 - iou_score: 0.7761 - val_loss: 0.0047 - val_iou_score: 0.6718\n",
      "Epoch 59/100\n",
      "87/87 [==============================] - 14s 161ms/step - loss: 0.0046 - iou_score: 0.7625 - val_loss: 0.0058 - val_iou_score: 0.6619\n",
      "Epoch 60/100\n",
      "87/87 [==============================] - 14s 163ms/step - loss: 0.0074 - iou_score: 0.7774 - val_loss: 0.0043 - val_iou_score: 0.7703\n",
      "Epoch 61/100\n",
      "87/87 [==============================] - 14s 161ms/step - loss: 0.0074 - iou_score: 0.7780 - val_loss: 0.0092 - val_iou_score: 0.6661\n",
      "Epoch 62/100\n",
      "87/87 [==============================] - 14s 157ms/step - loss: 0.0047 - iou_score: 0.7881 - val_loss: 0.0108 - val_iou_score: 0.7866\n",
      "Epoch 63/100\n",
      "87/87 [==============================] - 14s 157ms/step - loss: 0.0071 - iou_score: 0.7619 - val_loss: 0.0048 - val_iou_score: 0.8425\n",
      "Epoch 64/100\n",
      "87/87 [==============================] - 14s 157ms/step - loss: 0.0036 - iou_score: 0.8243 - val_loss: 0.0032 - val_iou_score: 0.7506\n",
      "Epoch 65/100\n",
      "87/87 [==============================] - 15s 175ms/step - loss: 0.0040 - iou_score: 0.7910 - val_loss: 0.0073 - val_iou_score: 0.7473\n",
      "Epoch 66/100\n",
      "87/87 [==============================] - 14s 159ms/step - loss: 0.0055 - iou_score: 0.7660 - val_loss: 0.0039 - val_iou_score: 0.6973\n",
      "Epoch 67/100\n",
      "87/87 [==============================] - 14s 160ms/step - loss: 0.0040 - iou_score: 0.7921 - val_loss: 0.0036 - val_iou_score: 0.6868\n",
      "Epoch 68/100\n",
      "87/87 [==============================] - 15s 176ms/step - loss: 0.0030 - iou_score: 0.7935 - val_loss: 0.0012 - val_iou_score: 0.7699\n",
      "Epoch 69/100\n",
      "87/87 [==============================] - 14s 162ms/step - loss: 0.0031 - iou_score: 0.7741 - val_loss: 0.0040 - val_iou_score: 0.7652\n",
      "Epoch 70/100\n",
      "87/87 [==============================] - 14s 166ms/step - loss: 0.0042 - iou_score: 0.7899 - val_loss: 0.0039 - val_iou_score: 0.7959\n",
      "Epoch 71/100\n",
      "87/87 [==============================] - 14s 159ms/step - loss: 0.0033 - iou_score: 0.7850 - val_loss: 0.0022 - val_iou_score: 0.7321\n",
      "Epoch 72/100\n",
      "87/87 [==============================] - 14s 159ms/step - loss: 0.0020 - iou_score: 0.7952 - val_loss: 0.0014 - val_iou_score: 0.7396\n",
      "Epoch 73/100\n",
      "87/87 [==============================] - 14s 159ms/step - loss: 0.0035 - iou_score: 0.8105 - val_loss: 0.0014 - val_iou_score: 0.7402\n",
      "Epoch 74/100\n",
      "87/87 [==============================] - 15s 176ms/step - loss: 0.0026 - iou_score: 0.8013 - val_loss: 0.0011 - val_iou_score: 0.7298\n",
      "Epoch 75/100\n",
      "87/87 [==============================] - 14s 160ms/step - loss: 0.0020 - iou_score: 0.7841 - val_loss: 0.0054 - val_iou_score: 0.7588\n",
      "Epoch 76/100\n",
      "87/87 [==============================] - 14s 162ms/step - loss: 0.0038 - iou_score: 0.7667 - val_loss: 0.0032 - val_iou_score: 0.7059\n",
      "Epoch 77/100\n",
      "87/87 [==============================] - 14s 163ms/step - loss: 0.0029 - iou_score: 0.7776 - val_loss: 0.0033 - val_iou_score: 0.7966\n",
      "Epoch 78/100\n",
      "87/87 [==============================] - 15s 176ms/step - loss: 0.0022 - iou_score: 0.8251 - val_loss: 0.0011 - val_iou_score: 0.7835\n",
      "Epoch 79/100\n",
      "87/87 [==============================] - 14s 161ms/step - loss: 0.0022 - iou_score: 0.7993 - val_loss: 0.0054 - val_iou_score: 0.7695\n",
      "Epoch 80/100\n",
      "87/87 [==============================] - 15s 176ms/step - loss: 0.0023 - iou_score: 0.7802 - val_loss: 7.7341e-04 - val_iou_score: 0.7585\n",
      "Epoch 81/100\n",
      "87/87 [==============================] - 14s 157ms/step - loss: 0.0074 - iou_score: 0.7803 - val_loss: 0.0071 - val_iou_score: 0.6573\n",
      "Epoch 82/100\n",
      "87/87 [==============================] - 14s 157ms/step - loss: 0.0033 - iou_score: 0.7890 - val_loss: 0.0020 - val_iou_score: 0.6700\n",
      "Epoch 83/100\n",
      "87/87 [==============================] - 14s 159ms/step - loss: 0.0037 - iou_score: 0.7462 - val_loss: 0.0039 - val_iou_score: 0.6895\n",
      "Epoch 84/100\n",
      "87/87 [==============================] - 14s 163ms/step - loss: 0.0020 - iou_score: 0.7784 - val_loss: 9.8005e-04 - val_iou_score: 0.7066\n",
      "Epoch 85/100\n",
      "87/87 [==============================] - 15s 173ms/step - loss: 0.0019 - iou_score: 0.7982 - val_loss: 6.8573e-04 - val_iou_score: 0.8129\n",
      "Epoch 86/100\n",
      "87/87 [==============================] - 14s 160ms/step - loss: 0.0017 - iou_score: 0.7695 - val_loss: 0.0102 - val_iou_score: 0.8071\n",
      "Epoch 87/100\n",
      "87/87 [==============================] - 14s 162ms/step - loss: 0.0034 - iou_score: 0.7538 - val_loss: 9.3485e-04 - val_iou_score: 0.7703\n",
      "Epoch 88/100\n",
      "87/87 [==============================] - 14s 163ms/step - loss: 0.0023 - iou_score: 0.7764 - val_loss: 0.0022 - val_iou_score: 0.7324\n",
      "Epoch 89/100\n",
      "87/87 [==============================] - 14s 162ms/step - loss: 0.0091 - iou_score: 0.7198 - val_loss: 0.0617 - val_iou_score: 0.8191\n",
      "Epoch 90/100\n",
      "87/87 [==============================] - 14s 161ms/step - loss: 0.0072 - iou_score: 0.7524 - val_loss: 0.0066 - val_iou_score: 0.7536\n",
      "Epoch 91/100\n",
      "87/87 [==============================] - 14s 158ms/step - loss: 0.0061 - iou_score: 0.7423 - val_loss: 0.0049 - val_iou_score: 0.7274\n",
      "Epoch 92/100\n",
      "87/87 [==============================] - 14s 158ms/step - loss: 0.0036 - iou_score: 0.7428 - val_loss: 0.0027 - val_iou_score: 0.7059\n",
      "Epoch 93/100\n",
      "87/87 [==============================] - 14s 157ms/step - loss: 0.0022 - iou_score: 0.8152 - val_loss: 0.0018 - val_iou_score: 0.6978\n",
      "Epoch 94/100\n",
      "87/87 [==============================] - 14s 159ms/step - loss: 0.0028 - iou_score: 0.7611 - val_loss: 0.0059 - val_iou_score: 0.5973\n",
      "Epoch 95/100\n",
      "87/87 [==============================] - 14s 165ms/step - loss: 0.0049 - iou_score: 0.7677 - val_loss: 0.0189 - val_iou_score: 0.6885\n",
      "Epoch 96/100\n",
      "87/87 [==============================] - 14s 159ms/step - loss: 0.0029 - iou_score: 0.7706 - val_loss: 0.0028 - val_iou_score: 0.8879\n",
      "Epoch 97/100\n",
      "87/87 [==============================] - 14s 163ms/step - loss: 0.0024 - iou_score: 0.7673 - val_loss: 0.0011 - val_iou_score: 0.6680\n",
      "Epoch 98/100\n",
      "87/87 [==============================] - 15s 177ms/step - loss: 0.0023 - iou_score: 0.8044 - val_loss: 5.9447e-04 - val_iou_score: 0.7188\n",
      "Epoch 99/100\n",
      "87/87 [==============================] - 14s 164ms/step - loss: 0.0012 - iou_score: 0.7646 - val_loss: 0.0017 - val_iou_score: 0.8318\n",
      "Epoch 100/100\n",
      "87/87 [==============================] - 14s 163ms/step - loss: 0.0013 - iou_score: 0.7870 - val_loss: 0.0022 - val_iou_score: 0.6989\n",
      "CPU times: user 15min 21s, sys: 5min 1s, total: 20min 23s\n",
      "Wall time: 25min 41s\n"
     ]
    }
   ],
   "source": [
    "%%time\n",
    "history=model.fit(\n",
    "    X_train, y_train,\n",
    "    epochs=n_epochs,\n",
    "    verbose=1,\n",
    "    validation_data=(X_val, y_val),\n",
    "    callbacks=callbacks\n",
    ")"
   ]
  },
  {
   "cell_type": "code",
   "execution_count": 10,
   "id": "checked-examination",
   "metadata": {},
   "outputs": [
    {
     "data": {
      "image/png": "[encoded data removed]",
      "text/plain": [
       "<Figure size 1000x300 with 2 Axes>"
      ]
     },
     "metadata": {},
     "output_type": "display_data"
    }
   ],
   "source": [
    "plot_learning_history(history)"
   ]
  },
  {
   "cell_type": "code",
   "execution_count": null,
   "id": "northern-truth",
   "metadata": {},
   "outputs": [],
   "source": []
  }
 ],
 "metadata": {
  "kernelspec": {
   "display_name": "tensorflow_gpu",
   "language": "python",
   "name": "tensorflow_gpu"
  },
  "language_info": {
   "codemirror_mode": {
    "name": "ipython",
    "version": 3
   },
   "file_extension": ".py",
   "mimetype": "text/x-python",
   "name": "python",
   "nbconvert_exporter": "python",
   "pygments_lexer": "ipython3",
   "version": "3.11.9"
  }
 },
 "nbformat": 4,
 "nbformat_minor": 5
}
